{
 "cells": [
  {
   "cell_type": "code",
   "execution_count": 11,
   "metadata": {},
   "outputs": [
    {
     "name": "stdout",
     "output_type": "stream",
     "text": [
      "Addition:\n",
      "[[ 5  7]\n",
      " [ 9 11]]\n",
      "\n",
      "Subtraction:\n",
      "[[-3 -3]\n",
      " [-3 -3]]\n",
      "\n",
      "Element wise Mutiplication:\n",
      "[[ 4 10]\n",
      " [18 28]]\n",
      "\n",
      "Multiplication:\n",
      "[[16 19]\n",
      " [36 43]]\n",
      "\n",
      "A_Transpose:\n",
      "[[1 3]\n",
      " [2 4]]\n"
     ]
    }
   ],
   "source": [
    "import numpy as np\n",
    "A=np.array([[1,2],[3,4]])\n",
    "B=np.array([[4,5],[6,7]])\n",
    "C=A+B\n",
    "D=A-B\n",
    "E=A*B\n",
    "#MATRIX MULTIPLICATION\n",
    "F=np.dot(A,B)\n",
    "A_TRANSPOSE=A.T\n",
    "print(\"Addition:\")\n",
    "print(C)\n",
    "print(\"\\nSubtraction:\")\n",
    "print(D)\n",
    "print(\"\\nElement wise Mutiplication:\")\n",
    "print(E)\n",
    "print(\"\\nMultiplication:\")\n",
    "print(F)\n",
    "print(\"\\nA_Transpose:\")\n",
    "print(A_TRANSPOSE)"
   ]
  },
  {
   "cell_type": "code",
   "execution_count": null,
   "metadata": {},
   "outputs": [],
   "source": []
  }
 ],
 "metadata": {
  "kernelspec": {
   "display_name": "Python 3 (ipykernel)",
   "language": "python",
   "name": "python3"
  },
  "language_info": {
   "codemirror_mode": {
    "name": "ipython",
    "version": 3
   },
   "file_extension": ".py",
   "mimetype": "text/x-python",
   "name": "python",
   "nbconvert_exporter": "python",
   "pygments_lexer": "ipython3",
   "version": "3.11.4"
  }
 },
 "nbformat": 4,
 "nbformat_minor": 2
}
