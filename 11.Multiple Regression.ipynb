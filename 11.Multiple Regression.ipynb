{
 "cells": [
  {
   "cell_type": "code",
   "execution_count": 6,
   "id": "bf87b801",
   "metadata": {},
   "outputs": [
    {
     "name": "stdout",
     "output_type": "stream",
     "text": [
      "Multiple Regression MSE: 0.06325336904344209\n"
     ]
    }
   ],
   "source": [
    "from sklearn.datasets import  load_iris\n",
    "from sklearn.model_selection import train_test_split\n",
    "from sklearn.linear_model import LinearRegression as LR\n",
    "from sklearn.metrics import mean_squared_error as MSE ,r2_score as R2S\n",
    "import numpy as np\n",
    "# dataset=load_iris()\n",
    "x,y =load_iris(return_X_y=True)\n",
    "\n",
    "#spliting\n",
    "x_train,x_test,y_train,y_test=train_test_split(x,y,test_size=0.25,random_state=0)\n",
    "reg = LR()\n",
    "reg.fit(x_train,y_train)\n",
    "p = reg.predict(x_test)\n",
    "mp_mse = MSE(y_test,p)\n",
    "print(f'Multiple Regression MSE: {mp_mse}')\n"
   ]
  },
  {
   "cell_type": "code",
   "execution_count": null,
   "id": "4f034b02",
   "metadata": {},
   "outputs": [],
   "source": []
  }
 ],
 "metadata": {
  "kernelspec": {
   "display_name": "Python 3 (ipykernel)",
   "language": "python",
   "name": "python3"
  },
  "language_info": {
   "codemirror_mode": {
    "name": "ipython",
    "version": 3
   },
   "file_extension": ".py",
   "mimetype": "text/x-python",
   "name": "python",
   "nbconvert_exporter": "python",
   "pygments_lexer": "ipython3",
   "version": "3.10.12"
  }
 },
 "nbformat": 4,
 "nbformat_minor": 5
}
