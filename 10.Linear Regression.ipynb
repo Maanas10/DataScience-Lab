{
 "cells": [
  {
   "cell_type": "code",
   "execution_count": 23,
   "id": "958f9125",
   "metadata": {
    "scrolled": true
   },
   "outputs": [
    {
     "name": "stdout",
     "output_type": "stream",
     "text": [
      "Linear Regression MSE: 0.03711379440797686\n"
     ]
    }
   ],
   "source": [
    "# Import necessary libraries \n",
    "import numpy as np \n",
    "import pandas as pd \n",
    "from sklearn.datasets import load_iris\n",
    "from sklearn.model_selection import train_test_split \n",
    "from sklearn.linear_model import LinearRegression \n",
    "from sklearn.metrics import mean_squared_error \n",
    "# Load the Boston Housing dataset \n",
    "data = load_iris() \n",
    "X = data.data \n",
    "y = data.target \n",
    "# Split the dataset into training and testing sets \\\n",
    "X_train, X_test, y_train, y_test = train_test_split(X, y, test_size=0.2, random_state=42) \n",
    "# Linear Regression \n",
    "lr_model = LinearRegression() \n",
    "lr_model.fit(X_train, y_train) \n",
    "lr_predictions = lr_model.predict(X_test) \n",
    "lr_mse = mean_squared_error(y_test, lr_predictions) \n",
    "# Print the Mean Squared Error (MSE) for Linear Regression \n",
    "print(f'Linear Regression MSE: {lr_mse}')\n"
   ]
  },
  {
   "cell_type": "code",
   "execution_count": null,
   "id": "31d2d46e",
   "metadata": {},
   "outputs": [],
   "source": []
  },
  {
   "cell_type": "code",
   "execution_count": null,
   "id": "576370a2",
   "metadata": {},
   "outputs": [],
   "source": []
  }
 ],
 "metadata": {
  "kernelspec": {
   "display_name": "Python 3 (ipykernel)",
   "language": "python",
   "name": "python3"
  },
  "language_info": {
   "codemirror_mode": {
    "name": "ipython",
    "version": 3
   },
   "file_extension": ".py",
   "mimetype": "text/x-python",
   "name": "python",
   "nbconvert_exporter": "python",
   "pygments_lexer": "ipython3",
   "version": "3.10.12"
  }
 },
 "nbformat": 4,
 "nbformat_minor": 5
}
