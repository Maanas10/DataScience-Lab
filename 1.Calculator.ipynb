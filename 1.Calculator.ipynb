{
 "cells": [
  {
   "cell_type": "code",
   "execution_count": 1,
   "metadata": {},
   "outputs": [
    {
     "name": "stdout",
     "output_type": "stream",
     "text": [
      "Enter 1st Number:3\n",
      "Enter 2nd Number:5\n",
      "...Enter your option....\n",
      "1.Addition\n",
      "2.Multiplication\n",
      "3.Subtraction\n",
      "4.Division\n",
      "choose your option to perform:1\n",
      "3+5=8.00\n",
      "...Enter your option....\n",
      "1.Addition\n",
      "2.Multiplication\n",
      "3.Subtraction\n",
      "4.Division\n",
      "choose your option to perform:2\n",
      "3*5=15.00\n",
      "...Enter your option....\n",
      "1.Addition\n",
      "2.Multiplication\n",
      "3.Subtraction\n",
      "4.Division\n",
      "choose your option to perform:3\n",
      "3-5=-2\n",
      "...Enter your option....\n",
      "1.Addition\n",
      "2.Multiplication\n",
      "3.Subtraction\n",
      "4.Division\n",
      "choose your option to perform:4\n",
      "ans= 3*5=0.60\n",
      "...Enter your option....\n",
      "1.Addition\n",
      "2.Multiplication\n",
      "3.Subtraction\n",
      "4.Division\n",
      "choose your option to perform:5\n",
      "option is invalid and exiting.......\n"
     ]
    }
   ],
   "source": [
    "a=float(input(\"Enter 1st Number:\"))\n",
    "b=float(input(\"Enter 2nd Number:\"))\n",
    "opt=0\n",
    "while opt>=0:\n",
    "    print(\"...Enter your option....\")\n",
    "    print(\"1.Addition\")\n",
    "    print(\"2.Multiplication\")\n",
    "    print(\"3.Subtraction\")\n",
    "    print(\"4.Division\")\n",
    "\n",
    "    opt=int(input(\"choose your option to perform:\"))\n",
    "    if(opt==1):\n",
    "        print(\"%d+%d=%.2f\" %(a,b,(a+b)))\n",
    "    elif(opt==2):\n",
    "        print(\"%d*%d=%.2f\" %(a,b,(a*b)))\n",
    "    elif(opt==3):\n",
    "        print(\"%d-%d=%d\" %(a,b,(a-b)))\n",
    "    elif(opt==4):\n",
    "        if(b==0):\n",
    "            print(\"0 cannot be divided\")\n",
    "        else:\n",
    "            print(\"ans= %d*%d=%.2f\" %(a,b,(a/b)))\n",
    "    else:\n",
    "        print(\"option is invalid and exiting.......\")\n",
    "        break"
   ]
  },
  {
   "cell_type": "code",
   "execution_count": null,
   "metadata": {},
   "outputs": [],
   "source": [
    "\n"
   ]
  },
  {
   "cell_type": "code",
   "execution_count": null,
   "metadata": {},
   "outputs": [],
   "source": []
  },
  {
   "cell_type": "code",
   "execution_count": null,
   "metadata": {},
   "outputs": [],
   "source": []
  }
 ],
 "metadata": {
  "kernelspec": {
   "display_name": "Python 3 (ipykernel)",
   "language": "python",
   "name": "python3"
  },
  "language_info": {
   "codemirror_mode": {
    "name": "ipython",
    "version": 3
   },
   "file_extension": ".py",
   "mimetype": "text/x-python",
   "name": "python",
   "nbconvert_exporter": "python",
   "pygments_lexer": "ipython3",
   "version": "3.11.4"
  }
 },
 "nbformat": 4,
 "nbformat_minor": 2
}
