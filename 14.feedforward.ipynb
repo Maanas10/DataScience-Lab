{
 "cells": [
  {
   "cell_type": "code",
   "execution_count": 1,
   "id": "495e15a8",
   "metadata": {},
   "outputs": [
    {
     "name": "stdout",
     "output_type": "stream",
     "text": [
      "Predictions: [2 1 0 2 0 2 0 2 2 1 1 2 1 2 2 0 2 1 0 0 2 1 0 0 2 0 0 2 1 0 2 1 0 2 2 1 0\n",
      " 2]\n",
      "\n",
      "True labels: [2 1 0 2 0 2 0 1 1 1 2 1 1 1 1 0 1 1 0 0 2 1 0 0 2 0 0 1 1 0 2 1 0 2 2 1 0\n",
      " 1]\n",
      "\n",
      "Confusion Matrix:\n",
      "[[13  0  0]\n",
      " [ 0  8  8]\n",
      " [ 0  1  8]]\n",
      "\n",
      "Accuracy Score: 0.7631578947368421\n",
      "\n",
      "Classification Report:\n",
      "              precision    recall  f1-score   support\n",
      "\n",
      "           0       1.00      1.00      1.00        13\n",
      "           1       0.89      0.50      0.64        16\n",
      "           2       0.50      0.89      0.64         9\n",
      "\n",
      "    accuracy                           0.76        38\n",
      "   macro avg       0.80      0.80      0.76        38\n",
      "weighted avg       0.83      0.76      0.76        38\n",
      "\n"
     ]
    },
    {
     "name": "stderr",
     "output_type": "stream",
     "text": [
      "/home/ksb/anaconda3/lib/python3.11/site-packages/sklearn/neural_network/_multilayer_perceptron.py:691: ConvergenceWarning: Stochastic Optimizer: Maximum iterations (100) reached and the optimization hasn't converged yet.\n",
      "  warnings.warn(\n"
     ]
    }
   ],
   "source": [
    "from sklearn.datasets import load_iris\n",
    "from sklearn.model_selection import train_test_split\n",
    "from sklearn.metrics import accuracy_score, confusion_matrix, classification_report\n",
    "from sklearn.preprocessing import StandardScaler\n",
    "from sklearn.neural_network import MLPClassifier\n",
    " \n",
    "# Load Iris dataset\n",
    "iris = load_iris()\n",
    "X = iris.data\n",
    "y = iris.target\n",
    " \n",
    "# Splitting the data into training and testing sets\n",
    "X_train, X_test, y_train, y_test = train_test_split(X, y, test_size=0.25, random_state=0)\n",
    " \n",
    "# Initialize StandardScaler\n",
    "scaler = StandardScaler()\n",
    " \n",
    "# Fit on training data and transform both training and test data\n",
    "X_train_scaled = scaler.fit_transform(X_train)\n",
    "X_test_scaled = scaler.transform(X_test)\n",
    " \n",
    "# Create and train the MLPClassifier\n",
    "model = MLPClassifier(hidden_layer_sizes=100, max_iter=100, random_state=42)\n",
    "model.fit(X_train_scaled, y_train)\n",
    " \n",
    "# Predict using the model\n",
    "predictions = model.predict(X_test_scaled)\n",
    " \n",
    "print(\"Predictions:\", predictions)\n",
    "print(\"\\nTrue labels:\", y_test)\n",
    " \n",
    "# Evaluation metrics\n",
    "confusion = confusion_matrix(y_test, predictions)\n",
    "accuracy = accuracy_score(y_test, predictions)\n",
    "classification_rep = classification_report(y_test, predictions)\n",
    " \n",
    "print(\"\\nConfusion Matrix:\")\n",
    "print(confusion)\n",
    "print(\"\\nAccuracy Score:\", accuracy)\n",
    "print(\"\\nClassification Report:\")\n",
    "print(classification_rep)"
   ]
  },
  {
   "cell_type": "code",
   "execution_count": null,
   "id": "0486fc29",
   "metadata": {},
   "outputs": [],
   "source": []
  }
 ],
 "metadata": {
  "kernelspec": {
   "display_name": "Python 3 (ipykernel)",
   "language": "python",
   "name": "python3"
  },
  "language_info": {
   "codemirror_mode": {
    "name": "ipython",
    "version": 3
   },
   "file_extension": ".py",
   "mimetype": "text/x-python",
   "name": "python",
   "nbconvert_exporter": "python",
   "pygments_lexer": "ipython3",
   "version": "3.11.5"
  }
 },
 "nbformat": 4,
 "nbformat_minor": 5
}
