{
 "cells": [
  {
   "cell_type": "code",
   "execution_count": 3,
   "id": "4bd0fe02",
   "metadata": {},
   "outputs": [
    {
     "name": "stdout",
     "output_type": "stream",
     "text": [
      "Accuracy: 100.00%\n"
     ]
    }
   ],
   "source": [
    "import numpy as np\n",
    "from sklearn.neighbors import KNeighborsClassifier\n",
    "from sklearn.model_selection import train_test_split\n",
    "from sklearn.datasets import load_iris\n",
    "from sklearn.metrics import accuracy_score\n",
    "      \n",
    "# Loading data\n",
    "irisData = load_iris()\n",
    " \n",
    "# Create feature and target arrays\n",
    "X = irisData.data\n",
    "y = irisData.target\n",
    " \n",
    "# Sample dataset\n",
    "a = np.array([[1, 2], [2, 3], [3, 4], [3, 1], [4, 2], [2, 1]])\n",
    "b = np.array([0, 0, 0, 1, 1, 1])  # Labels\n",
    " \n",
    "# Split the dataset into a training set and a test set\n",
    "X_train, X_test, y_train, y_test = train_test_split(X, y, test_size=0.2, random_state=42)\n",
    " \n",
    "# Initialize the KNN classifier with k=3\n",
    "k = 5\n",
    "knn = KNeighborsClassifier(n_neighbors=k)\n",
    " \n",
    "# Fit the model to the training data\n",
    "knn.fit(X_train, y_train)\n",
    " \n",
    "# Predict the labels for the test set\n",
    "y_pred = knn.predict(X_test)\n",
    " \n",
    "# Calculate accuracy\n",
    "accuracy = accuracy_score(y_test, y_pred)\n",
    "print(f'Accuracy: {accuracy * 100:.2f}%')"
   ]
  },
  {
   "cell_type": "code",
   "execution_count": null,
   "id": "5a108448",
   "metadata": {},
   "outputs": [],
   "source": []
  }
 ],
 "metadata": {
  "kernelspec": {
   "display_name": "Python 3 (ipykernel)",
   "language": "python",
   "name": "python3"
  },
  "language_info": {
   "codemirror_mode": {
    "name": "ipython",
    "version": 3
   },
   "file_extension": ".py",
   "mimetype": "text/x-python",
   "name": "python",
   "nbconvert_exporter": "python",
   "pygments_lexer": "ipython3",
   "version": "3.11.4"
  }
 },
 "nbformat": 4,
 "nbformat_minor": 5
}
